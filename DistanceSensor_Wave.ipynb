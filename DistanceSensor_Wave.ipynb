{
  "nbformat": 4,
  "nbformat_minor": 0,
  "metadata": {
    "colab": {
      "provenance": [],
      "authorship_tag": "ABX9TyO0xgBPqy0neHZ31F2Slh4r",
      "include_colab_link": true
    },
    "kernelspec": {
      "name": "python3",
      "display_name": "Python 3"
    },
    "language_info": {
      "name": "python"
    }
  },
  "cells": [
    {
      "cell_type": "markdown",
      "metadata": {
        "id": "view-in-github",
        "colab_type": "text"
      },
      "source": [
        "<a href=\"https://colab.research.google.com/github/carlosrome/ML-Research-Project-Physics/blob/main/DistanceSensor_Wave.ipynb\" target=\"_parent\"><img src=\"https://colab.research.google.com/assets/colab-badge.svg\" alt=\"Open In Colab\"/></a>"
      ]
    },
    {
      "cell_type": "code",
      "execution_count": 2,
      "metadata": {
        "colab": {
          "base_uri": "https://localhost:8080/",
          "height": 465
        },
        "id": "DDQKa5DM7pda",
        "outputId": "10a1d712-f03f-4a22-d6e3-68f7d197cf5e"
      },
      "outputs": [
        {
          "output_type": "stream",
          "name": "stdout",
          "text": [
            "[2.29289322 2.         2.29289322 3.         3.70710678 4.\n",
            " 3.70710678 3.        ]\n"
          ]
        },
        {
          "output_type": "display_data",
          "data": {
            "text/plain": [
              "<Figure size 640x480 with 1 Axes>"
            ],
            "image/png": "[encoded data removed]"
          },
          "metadata": {}
        }
      ],
      "source": [
        "import numpy as np\n",
        "import matplotlib.pyplot as plt\n",
        "\n",
        "# Specify angle and distance to line\n",
        "theta = 45\n",
        "d1 = 3\n",
        "\n",
        "# Calculate endpoints of the line from origin to wave\n",
        "p1 = np.array([0, 0])\n",
        "p2 = np.array([d1 * np.sin(np.radians(theta)), d1 * np.cos(np.radians(theta))])\n",
        "\n",
        "# Calculate slope of line origin-wave, and slope of wave\n",
        "m1 = np.tan(np.radians(theta))\n",
        "m2 = -1 / m1\n",
        "\n",
        "delta_x = 1\n",
        "\n",
        "# Create point of interest\n",
        "pi = np.array([p2[0] + delta_x, p2[1] + m2 * delta_x])\n",
        "\n",
        "# Specify any two points of the wave\n",
        "v1 = p2\n",
        "v2 = pi\n",
        "\n",
        "# Slope of the wave\n",
        "m = m2\n",
        "\n",
        "# Equation of the wave\n",
        "x = np.arange(-5, 5, 0.1)\n",
        "y = m * (x - v1[0]) + v1[1]\n",
        "wave_start = [x[0], y[0], 0]\n",
        "wave_end = [x[-1], y[-1], 0]\n",
        "\n",
        "# Each point, in counter-clockwise direction\n",
        "pt1 = [np.cos(np.radians(0)), np.sin(np.radians(0)), 0]\n",
        "pt2 = [np.cos(np.radians(45)), np.sin(np.radians(45)), 0]\n",
        "pt3 = [np.cos(np.radians(90)), np.sin(np.radians(90)), 0]\n",
        "pt4 = [np.cos(np.radians(135)), np.sin(np.radians(135)), 0]\n",
        "pt5 = [np.cos(np.radians(180)), np.sin(np.radians(180)), 0]\n",
        "pt6 = [np.cos(np.radians(225)), np.sin(np.radians(225)), 0]\n",
        "pt7 = [np.cos(np.radians(270)), np.sin(np.radians(270)), 0]\n",
        "pt8 = [np.cos(np.radians(315)), np.sin(np.radians(315)), 0]\n",
        "\n",
        "# Define a function to calculate the distance from a point to a line\n",
        "def distance_to_line(point, line_start, line_end):\n",
        "    x0, y0 = point[0], point[1]\n",
        "    x1, y1 = line_start[0], line_start[1]\n",
        "    x2, y2 = line_end[0], line_end[1]\n",
        "    return np.abs((x2 - x1) * (y1 - y0) - (x1 - x0) * (y2 - y1)) / np.sqrt((x2 - x1)**2 + (y2 - y1)**2)\n",
        "\n",
        "# Distances of each point, in counter-clockwise direction, to the wave\n",
        "distances = np.zeros(8)\n",
        "\n",
        "distances[0] = distance_to_line(pt1, wave_start, wave_end)\n",
        "distances[1] = distance_to_line(pt2, wave_start, wave_end)\n",
        "distances[2] = distance_to_line(pt3, wave_start, wave_end)\n",
        "distances[3] = distance_to_line(pt4, wave_start, wave_end)\n",
        "distances[4] = distance_to_line(pt5, wave_start, wave_end)\n",
        "distances[5] = distance_to_line(pt6, wave_start, wave_end)\n",
        "distances[6] = distance_to_line(pt7, wave_start, wave_end)\n",
        "distances[7] = distance_to_line(pt8, wave_start, wave_end)\n",
        "\n",
        "# Plotting the sensors and the wave\n",
        "plt.plot(x, y)\n",
        "plt.xlim([-5, 5])\n",
        "plt.ylim([-5, 5])\n",
        "plt.plot([pt[0] for pt in [pt1, pt2, pt3, pt4, pt5, pt6, pt7, pt8]], [pt[1] for pt in [pt1, pt2, pt3, pt4, pt5, pt6, pt7, pt8]], 'o', color='b')\n",
        "\n",
        "# Getting back the distances of each sensor to the wave\n",
        "print(distances)\n",
        "plt.show()\n",
        "\n"
      ]
    },
    {
      "cell_type": "code",
      "source": [],
      "metadata": {
        "id": "Djxv0-Pj7qQZ"
      },
      "execution_count": null,
      "outputs": []
    }
  ]
}